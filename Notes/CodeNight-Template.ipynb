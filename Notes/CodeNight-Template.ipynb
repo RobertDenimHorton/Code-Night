{
 "cells": [
  {
   "cell_type": "markdown",
   "metadata": {
    "id": "Lu3dQRG2Syfn"
   },
   "source": [
    "# Code Night 000\n",
    "---\n",
    "\n",
    "## Code night subject\n",
    "### M/D/Y\n",
    "---\n",
    "## Welcome to code night!  👋 \n",
    "# &nbsp;&nbsp;&nbsp;&nbsp;&nbsp;&nbsp;&nbsp;&nbsp;&nbsp;&nbsp;💻 &nbsp;&nbsp;&nbsp;&nbsp;&nbsp; 💻\n",
    "# &nbsp;&nbsp;&nbsp;&nbsp;&nbsp;&nbsp;&nbsp;&nbsp;&nbsp;&nbsp;🧑 🙏 🧑\n",
    "---\n",
    "\n",
    "> This week for code night . . .\n",
    "\n",
    "> 1.  subject\n",
    ">       * sub-subject\n",
    ">       * sub-subject\n",
    "\n",
    "> 2.  subject\n",
    ">       * sub-subject"
   ]
  },
  {
   "cell_type": "markdown",
   "metadata": {},
   "source": [
    "---\n",
    "> # Summary\n",
    ">*  Meeting again next week on Monday @ 6.  \n",
    ">*  Work on Codecademy Python course\n",
    " \n"
   ]
  }
 ],
 "metadata": {
  "kernelspec": {
   "display_name": "Python 3.10.6 64-bit",
   "language": "python",
   "name": "python3"
  },
  "language_info": {
   "name": "python",
   "version": "3.10.6"
  },
  "orig_nbformat": 4,
  "vscode": {
   "interpreter": {
    "hash": "a42ccb73e7d9bfdf27e036f1d2b8b681e55fc0743cc5586bc2474d4a60f4b886"
   }
  }
 },
 "nbformat": 4,
 "nbformat_minor": 2
}
