{
  "cells": [
    {
      "cell_type": "markdown",
      "metadata": {
        "id": "Lu3dQRG2Syfn"
      },
      "source": [
        "# Code Night 001\n",
        "---\n",
        "\n",
        "## Pyhton Indorcution 01 \n",
        "### 8/14/22\n",
        "---\n",
        "## Welcome to code night!  👋 \n",
        "# &nbsp;&nbsp;&nbsp;&nbsp;&nbsp;&nbsp;&nbsp;&nbsp;&nbsp;&nbsp;💻 &nbsp;&nbsp;&nbsp;&nbsp;&nbsp; 💻\n",
        "# &nbsp;&nbsp;&nbsp;&nbsp;&nbsp;&nbsp;&nbsp;&nbsp;&nbsp;&nbsp;🧑 🙏 🧑\n",
        "---\n",
        "\n",
        "> This week for code night we are gonna cover the basics of python and quickly do some over head matainace on how we can maybe change the day and maybe times taht we do these at to allow more peole to come.\n",
        "\n",
        "> 1.   Talk about days and times for code night (5-10 mins)\n",
        "  *   Spencer - tuesday does not work, said Wednesday or Thursdays work\n",
        "  *   Denim - Any day work\n",
        "  *   Colton - Monday or Tuesday\n",
        "  *   Michael -  Any day work\n",
        "  *   Regina - Anyday work \n",
        "2.   Talk about what we want from the code night (5-10 mins)\n",
        "  *   Just to hang out have fun, work on our own projects and use thr gourp as fall back when stuck\n",
        "  *   Work on groupd porjects just for fun\n",
        "  *   Soley for learning and teaching new wanted skills within the group (maybe mutlple sub groups if gets big enough in scope and group size)\n",
        "  *   \"*Money-money-money-money-money*\" *-Mr. Crabs* \n",
        "\n",
        "  Once a week for 1-2 hours @ Micahels \n",
        "\n",
        "\n",
        "3.    Quick introduction to python  (10-15 mins)\n",
        "  * Varaiables \n",
        "  * Printing to the console\n",
        "      * Formatters;\n",
        "          * **\".. \"+var+\" ..\"**\n",
        "          * **\".. {} ...\".format(var)**\n",
        "          * \".. %s ...\" % (var)\n",
        "  * Code comments\n",
        "      * Small and only needed when extra explanation is needed.\n",
        "  * Createing and setting varaibles\n",
        "      * Basic data types;\n",
        "          * **Int**\n",
        "          * **Float** (Built into python, **Double** is buit into *Numpy*)\n",
        "          * **String**\n",
        "          * **Booleans** \n",
        "      * Basic data structures;\n",
        "          * **List**\n",
        "          * **Dictionary**\n",
        "          * **Sets**\n",
        "\n",
        "4.  Workthrough mini example (30-45 mins)\n",
        "    * Build a mini calculator\n",
        "5.  Assign work to cover what will be covered next week  (5-10 mins)\n",
        "  * Mathmatical operators \n",
        "      * +, -, /, %, *, ...\n",
        "      * Create simple F --> C calcualtor\n",
        "\n",
        "\n",
        "\n"
      ]
    },
    {
      "cell_type": "markdown",
      "metadata": {
        "id": "HeUWEACPaHu4"
      },
      "source": [
        "# Working with Varaibles \n",
        "This bascially allows us to set values or data to a string representation.  un like alot of programing langues there is no need for declearation of the varbiale since python is an interpreted and dynamically typed language, meaning the compiler only runs on execution.  So set a varibale we simply use a good naming convention for the varibale to capture what kind this data is being stored for.  With python there is no such things as global or constant variables."
      ]
    },
    {
      "cell_type": "code",
      "execution_count": null,
      "metadata": {
        "colab": {
          "base_uri": "https://localhost:8080/"
        },
        "id": "KjJc3P4UZlrM",
        "outputId": "0e7a35a1-4eb7-45e4-9b1c-052277d11fae"
      },
      "outputs": [
        {
          "name": "stdout",
          "output_type": "stream",
          "text": [
            "<class 'int'>\n",
            "<class 'float'>\n",
            "<class 'str'>\n",
            "King Aurthor, King of the Britains\n",
            "King Aurthor, King of the Britains!!!\n"
          ]
        }
      ],
      "source": [
        "\n",
        "someVariable = 10000000\n",
        "print(type(someVariable))\n",
        "\n",
        "someVariable = 30000.0\n",
        "print(type(someVariable))\n",
        "someVariable = \"King Aurthor\"\n",
        "print(type(someVariable))\n",
        "\n",
        "someVariable = someVariable + \", King of the Britains\"\n",
        "print(someVariable)\n",
        "someVariable += \"!!!\"\n",
        "print(someVariable)\n",
        "\n",
        "\n"
      ]
    },
    {
      "cell_type": "markdown",
      "metadata": {
        "id": "qcLKV1V7YpXl"
      },
      "source": [
        "# Working with Printing to Console \n",
        "---\n",
        "> It is a good idea to eventually get comfortable with using a debugging tool to keep track of data through outs steps of your prgoram but a quick and dirty way is using print statments.  This also important because we want to interface with the user or log certain data after functions or methods have been performed on the data. Here is the basic print function for python with some of its basics parateters.  \n",
        "\n",
        "> We then go into how we can print this info, which is \"data\", into different formats wether through data type casting or not.  Some methods can have thier benefits over others in power and efficency.\n",
        "---  \n",
        "# print() Parameters\n",
        "* objects \n",
        "  * Object to the printed. * indicates that there may be more than one object\n",
        "* sep \n",
        "  * Objects are separated by sep. Default value: \n",
        "* end\n",
        "  * End is printed at last\n",
        "* file\n",
        "  * Must be an object with write(string) method. If omitted, sys.stdout will be used which prints objects on the screen.\n",
        "* flush\n",
        "  * If True, the stream is forcibly flushed. Default value: False\n",
        "\n",
        "\n",
        "There also a built in prettyprint in python that we can turn on and off with....\n",
        "\n",
        "                                    %pprint\n",
        "\n",
        " Typed into the CLI/console will toggle this option on and off                           "
      ]
    },
    {
      "cell_type": "code",
      "execution_count": null,
      "metadata": {
        "colab": {
          "base_uri": "https://localhost:8080/"
        },
        "id": "4pUEeAO6XXJ0",
        "outputId": "3e4f558c-eb39-4c20-f7dc-2804ac94d631"
      },
      "outputs": [
        {
          "name": "stdout",
          "output_type": "stream",
          "text": [
            "--------------------------------\n",
            "print 'keyword' examples\n",
            "--------------------------------\n",
            "\t good morrow\t , world!\n",
            "\t----good morrow----, world!\n",
            "\n",
            "\n",
            "--------------------------------\n",
            "String Formatting\n",
            "--------------------------------\n",
            "\t good morrow, world!\n",
            "\t good morrow , world!\n",
            "\t good morrow, world!\n",
            "\t good morrow, world!\n",
            "\t good morrow, world!\n"
          ]
        }
      ],
      "source": [
        "print(\"--------------------------------\")\n",
        "print(\"print 'keyword' examples\")\n",
        "print(\"--------------------------------\")\n",
        "someStr = \"\"\n",
        "someStr = \"good morrow\"\n",
        "anotherStr = \", world!\"\n",
        "print(\"\\t\", someStr, end=\"\")\n",
        "print(\"\\t\", anotherStr)\n",
        "print(\"\\t\", someStr, anotherStr, sep=\"----\")\n",
        "print(\"\\n\")\n",
        "print(\"--------------------------------\")\n",
        "print(\"String Formatting\")\n",
        "print(\"--------------------------------\")\n",
        "print(\"\\t\", someStr+anotherStr)\n",
        "print(\"\\t\", someStr, anotherStr)\n",
        "print(\"\\t\", f\"{someStr}{anotherStr}\")\n",
        "print(\"\\t\", \"{}{}\".format(someStr, anotherStr))\n",
        "print(\"\\t\", \"%s%s\" % (someStr, anotherStr))\n",
        "\n",
        "# pp(someStr, anotherStr)"
      ]
    },
    {
      "cell_type": "markdown",
      "metadata": {
        "id": "ANoSFzuaFF8N"
      },
      "source": [
        "> # Operators\n",
        ">## There are different types of operators listed below\n",
        "* ***Arithmetic operators***\n",
        "* ***Assignment operators***\n",
        "* ***Comparison operators***\n",
        "* Logical operators\n",
        "* Identity operators\n",
        "* Membership operators\n",
        "* Bitwise operators\n",
        "\n",
        "Today we will only cover the bold and italicized operators\n",
        "\n"
      ]
    },
    {
      "cell_type": "code",
      "execution_count": null,
      "metadata": {
        "colab": {
          "base_uri": "https://localhost:8080/"
        },
        "id": "o00qLN6JFFbO",
        "outputId": "906cb905-428c-4c4e-dc34-f74ced143849"
      },
      "outputs": [
        {
          "name": "stdout",
          "output_type": "stream",
          "text": [
            "x:\t2\n",
            "y:\t5\n",
            "Addition:\t7\n",
            "Subtraction:\t-3\n",
            "Multiplication:\t10\n",
            "Division:\t0.4\n",
            "Modulus:\t1\n",
            "Exponentiation:\t32\n",
            "Floor division:\t0\n"
          ]
        }
      ],
      "source": [
        "x = 2\n",
        "y = 5\n",
        "# Arithmetic operators\n",
        "print(f\"x:\\t{x}\")\n",
        "print(\"y:\\t{}\".format(y))\n",
        "# '+'\tAddition\n",
        "print(\"Addition\", end=\":\\t\")\n",
        "print(x + y)\t\n",
        "# '-'\tSubtraction\n",
        "print(\"Subtraction\", end=\":\\t\")\n",
        "print(x - y)\n",
        "# '*'\t  Multiplication\t\n",
        "print(\"Multiplication\", end=\":\\t\")\n",
        "print(x * y)\t\n",
        "# '/'\t  Division\t\n",
        "print(\"Division\", end=\":\\t\")\n",
        "print(x / y)\t\n",
        "# '%'\t  Modulus\n",
        "print(\"Modulus\", end=\":\\t\")\n",
        "print(y % x)\t\n",
        "# '**'\tExponentiation\n",
        "print(\"Exponentiation\", end=\":\\t\")\n",
        "print(x ** y)\t\n",
        "# '//'\tFloor division\t\n",
        "print(\"Floor division\", end=\":\\t\")\n",
        "print(x // y)"
      ]
    },
    {
      "cell_type": "code",
      "execution_count": null,
      "metadata": {
        "colab": {
          "base_uri": "https://localhost:8080/"
        },
        "id": "REWvzISOIGnj",
        "outputId": "4d2245a9-7af1-45de-da4d-7eeffaa37ad4"
      },
      "outputs": [
        {
          "name": "stdout",
          "output_type": "stream",
          "text": [
            "5 <Add> 5 = 10\n",
            "10 <Minus> 5 = 5\n",
            "5 <Divi> 5 = 1.0\n",
            "1.0 <Mutli> 5 = 5.0\n",
            "5.0 <floor Divi.> 5 = 2.0\n",
            "2.0 - 5 = 1.0\n"
          ]
        }
      ],
      "source": [
        "# Assignment operators \n",
        "x = 5\n",
        "\n",
        "\n",
        "print(\"{} <Add> {} = \".format(x, 5), end=\"\")\n",
        "x += 5\n",
        "print(x)\n",
        "\n",
        "print(\"{} <Minus> {} = \".format(x, 5), end=\"\")\n",
        "x -= 5\n",
        "print(x)\n",
        "\n",
        "print(\"{} <Divi> {} = \".format(x, 5), end=\"\")\n",
        "x /= 5 \n",
        "print(x)\n",
        "\n",
        "print(\"{} <Mutli> {} = \".format(x, 5), end=\"\")\n",
        "x *= 5 \n",
        "print(x)\n",
        "\n",
        "print(\"{} <floor Divi.> {} = \".format(x, 5), end=\"\")\n",
        "x //= 2 \n",
        "print(x)\n",
        "\n",
        "print(\"{} - {} = \".format(x, 5), end=\"\")\n",
        "x //= 2 \n",
        "print(x)\n"
      ]
    },
    {
      "cell_type": "code",
      "execution_count": null,
      "metadata": {
        "colab": {
          "base_uri": "https://localhost:8080/"
        },
        "id": "-IgZy2FIID5A",
        "outputId": "e77c90f3-b21d-4141-fc62-93f5820e9763"
      },
      "outputs": [
        {
          "name": "stdout",
          "output_type": "stream",
          "text": [
            "x == y:\tFalse\n",
            "x != y:\tTrue\n",
            "x > y:\tTrue\n",
            "x < y:\tFalse\n",
            "x >= y:\tTrue\n",
            "x <= y:\tFalse\n"
          ]
        }
      ],
      "source": [
        "# Comparison operators\n",
        "x = 5 \n",
        "y = 2\n",
        "# '=='\tEqual\t\n",
        "print(f\"x == y:\\t{x == y}\")\t\n",
        "# '!='\tNot equal\n",
        "print(f\"x != y:\\t{x != y}\")\t\n",
        "\n",
        "# '>'\tGreater than\n",
        "print(f\"x > y:\\t{x > y}\")\t\n",
        "\n",
        "# '<'\tLess than\t\n",
        "print(f\"x < y:\\t{x < y}\")\t\n",
        "\n",
        "# '>='\tGreater than or equal to\n",
        "print(f\"x >= y:\\t{x >= y}\")\t\n",
        "\n",
        "# '<='\tLess than or equal to\t\n",
        "print(f\"x <= y:\\t{x <= y}\")\t\n"
      ]
    },
    {
      "cell_type": "code",
      "execution_count": null,
      "metadata": {
        "colab": {
          "base_uri": "https://localhost:8080/"
        },
        "id": "wkaHueM8D8hV",
        "outputId": "09276a59-738e-4a11-ff46-3473c730a095"
      },
      "outputs": [
        {
          "name": "stdout",
          "output_type": "stream",
          "text": [
            "True 1\n",
            "False 0 None\n",
            "True\n",
            "True\n",
            "True\n",
            "True\n",
            "True\n",
            "I'm the inverse so i should be printing\n"
          ]
        }
      ],
      "source": [
        "# BOOLEAN!!!!!!!\n",
        "#   + True, False\n",
        "#   + turly falsey\n",
        "true=1\n",
        "notTrue=0\n",
        "\n",
        "print(\"True\", true)\n",
        "print(\"False\", notTrue, None)\n",
        "\n",
        "\n",
        "\n",
        "\n",
        "another_var = 0\n",
        "\n",
        "var = 2\n",
        "\n",
        "# \"if\" Statement\n",
        "if not (2!=5):\n",
        "    print(\"False\")\n",
        "print(True)\n",
        "    \n",
        "# \"if ... else\" Statement\n",
        "if 2 == var:\n",
        "    print(\"True\")\n",
        "else:\n",
        "    print(\"False\")\n",
        "\n",
        "# elif Statement\n",
        "if (2==var):\n",
        "    print(\"True\")\n",
        "elif (3==var):\n",
        "    print(\"False\")\n",
        "\n",
        "# \"and\" operator\n",
        "if (True and True):\n",
        "    print(True and True)\n",
        "elif (True and False):\n",
        "    print(True and False)\n",
        "elif(False and True):\n",
        "    print(False and True)\n",
        "elif(False and False):\n",
        "    print(False and False)\n",
        "\n",
        "# \"or\" operator\n",
        "if (True or True):\n",
        "    print(True or True)\n",
        "elif (True or False):\n",
        "    print(True or False)\n",
        "elif(False or True):\n",
        "    print(False or True)\n",
        "elif not ( False or False):\n",
        "    print(False or False)\n",
        "\n",
        "# \"not\" operator\n",
        "if not True:\n",
        "    print(\"I Shouldn't be printing\")\n",
        "elif not False:\n",
        "    print(\"I'm the inverse so i should be printing\")"
      ]
    },
    {
      "cell_type": "markdown",
      "metadata": {
        "id": "1rDKOZ9uMAwQ"
      },
      "source": [
        "># Loops and Conditional Statements\n",
        "\n",
        ">For this section we will inroduce a couple good functions to know to look at some other built in functions for python here is a link to find them [here](https://docs.python.org/3/library/functions.html).\n",
        "  * **range()** - create a iterator of ints with the passed args, **starting number of itr**, **Ending number of itr**, and **how much to iterate by**.  These are not required arguments and are keyword agruments which i will dicuss later. \n",
        "  * **len()** -basically works as the .length() method that exsists and most other langauges.  This functions also allows us to get the length of the iterator (i.e. number of itmes to iterate inside an iterator). \n",
        "\n",
        ">\"for loops\" can sometimes be a little hard to grasp sometimes as they work different from most languages.  As for \"if\", \"if-else\", and \"elif\" statments they generally work the same. to iterate a set amount of times we must first create an iterator for the for loop.  Things such as list or strings can be ierated as well as many other objects avalibale in python.  In fact a basic class can include an __iter__ class that can be overwritten to iterate the way we want it to.  \n",
        "\n",
        "\n",
        "\n",
        ">\"if\", \"if-else\" and \"elif\" are our conditional statments which are also huge for any programing language.  \n"
      ]
    },
    {
      "cell_type": "code",
      "execution_count": null,
      "metadata": {
        "colab": {
          "base_uri": "https://localhost:8080/"
        },
        "id": "XpyXVNVpMfM1",
        "outputId": "3770f7c4-0c54-41a8-8571-a0e9889e7d97"
      },
      "outputs": [
        {
          "name": "stdout",
          "output_type": "stream",
          "text": [
            "0\n",
            "1\n",
            "2\n",
            "3\n",
            "4\n",
            "5\n",
            "6\n",
            "7\n",
            "8\n",
            "9\n",
            "10\n",
            "a:b:c:d:e:\n",
            "one 1\n",
            "two 2\n"
          ]
        }
      ],
      "source": [
        "\n",
        "# For Loops\n",
        "#            Start, End, Iter amount \n",
        "for i in range(11):\n",
        "  print(i) \n",
        "\n",
        "myList = [\"a\", \"b\", \"c\", \"d\", \"e\"]\n",
        "for i in myList:\n",
        "  print(f\"{i}:\", end=\"\")\n",
        "\n",
        "myDict = {\"one\":1, \"two\":2}\n",
        "print()\n",
        "for i, j in myDict.items():\n",
        "  print(i, j)\n",
        "\n",
        "\n",
        "\n",
        "\n",
        "\n",
        "\n"
      ]
    },
    {
      "cell_type": "code",
      "execution_count": null,
      "metadata": {
        "id": "V5xk20CRwdCc"
      },
      "outputs": [],
      "source": [
        "# \"if\" statement\n",
        "\n",
        "# \"if ... else\" statement\n",
        "\n",
        "# \"elif\" statement\n"
      ]
    },
    {
      "cell_type": "markdown",
      "metadata": {
        "id": "7W70kPxUK08l"
      },
      "source": [
        "># Methods and Functions \n",
        ">A **Function** or **Method** can be used to complete tasks with in a \"block\" of code.  These are exrtremly helpful when that block of code might need be used multiple times.  This can even include recursive calls which fundamnetal solve the issue of solving REALLY BIG PROBLEMS.  By breaking the job down into smaller and smaller tasks it simple to see in most recurssion algorithms that they can be alot faster and effecieny when considering problems that are very big.\n"
      ]
    },
    {
      "cell_type": "code",
      "execution_count": null,
      "metadata": {
        "colab": {
          "base_uri": "https://localhost:8080/"
        },
        "id": "-_6FzJf4Lj_n",
        "outputId": "4191265b-0b32-4b64-eded-fe54c233edfd"
      },
      "outputs": [
        {
          "name": "stdout",
          "output_type": "stream",
          "text": [
            "Ni\n",
            "Ni\n",
            "Ni\n",
            "Ni\n",
            "Ni\n",
            "12\n",
            "Ni\n",
            "Ni\n",
            "Ni\n",
            "Ni\n",
            "Ni\n",
            "Ni\n",
            "Ni\n",
            "Ni\n",
            "Ni\n",
            "Ni\n",
            "12\n",
            "It, oh no I said it!\n",
            "12\n"
          ]
        }
      ],
      "source": [
        "def print_multiple_times(var, iterations=5, anotherVar=12):\n",
        "  for iter in range(iterations):\n",
        "    print(var)\n",
        "\n",
        "  print(anotherVar)\n",
        "\n",
        "\n",
        "print_multiple_times(\"Ni\")\n",
        "\n",
        "print_multiple_times(\"Ni\", 10)\n",
        "print_multiple_times(\"It, oh no I said it!\",  anotherVar=12, iterations=1)                     "
      ]
    },
    {
      "cell_type": "markdown",
      "metadata": {
        "id": "fwyzoLWngJ_o"
      },
      "source": [
        "# Working with Comments \n",
        "---\n",
        ">Commenting can be huge when looking back on your code or for helping out other how might latter have to go back and add or edit your code.  However we dont want to litter our code with comments.  Using comments only when something might need extra explanation or reasoning behind why something was codded the way it was. We can also use comments in our functions that can auto-generated using many available libraries like [Doxgyn and PyDoc](https://wiki.python.org/moin/DocumentationTools). \n",
        "\n",
        "> With proper coding practices and clean comments code becomes alot eassier for someone, including your self, to latter go back and compehrnd or edit the code. This extends into [PEP-8 Coding Standards](https://peps.python.org/pep-0008/) code practices that can help you start using stardard practices when writing the code along your path to becoming a coding wizard!\n",
        "\n",
        "\n",
        "\n",
        "\n",
        "                    🧙      🎇    🐍\n",
        "\n",
        "\n"
      ]
    },
    {
      "cell_type": "code",
      "execution_count": 1,
      "metadata": {
        "colab": {
          "base_uri": "https://localhost:8080/"
        },
        "id": "vGPDJRr9gJfb",
        "outputId": "ab769530-9187-4a44-9e81-f8991634c7b9"
      },
      "outputs": [
        {
          "name": "stdout",
          "output_type": "stream",
          "text": [
            "4\n"
          ]
        }
      ],
      "source": [
        "\n",
        "'''\n",
        "This is a mutlit-line comment\n",
        "the second line of the comment\n",
        "'''\n",
        "\n",
        "# This is a single-line comment \n",
        "# the sceond line of the comment\n",
        "def someFunc(someArg):\n",
        "  '''\n",
        "  In line comments can linclude useful info for automated python doc\n",
        "  By using the @ operator before a varibale\n",
        "  @param someArg\n",
        "  @return someArgPlus2\n",
        "  '''  \n",
        "  # We can use 'inline' comments explain that line\n",
        "  return someArg + 2 # Like why we add 2 here,\n",
        "\n",
        "\n",
        "print(someFunc(2))"
      ]
    },
    {
      "cell_type": "markdown",
      "metadata": {
        "id": "up0AoECKhddD"
      },
      "source": [
        "---\n",
        "> # Summary\n",
        ">*  Meeting again next week on Monday @ 6.  \n",
        ">*  Work on Codecademy Python course\n",
        " \n"
      ]
    },
    {
      "cell_type": "markdown",
      "metadata": {},
      "source": []
    }
  ],
  "metadata": {
    "colab": {
      "collapsed_sections": [
        "Lu3dQRG2Syfn",
        "HeUWEACPaHu4",
        "qcLKV1V7YpXl",
        "ANoSFzuaFF8N"
      ],
      "name": "Untitled0.ipynb",
      "provenance": []
    },
    "kernelspec": {
      "display_name": "Python 3.10.6 64-bit",
      "language": "python",
      "name": "python3"
    },
    "language_info": {
      "codemirror_mode": {
        "name": "ipython",
        "version": 3
      },
      "file_extension": ".py",
      "mimetype": "text/x-python",
      "name": "python",
      "nbconvert_exporter": "python",
      "pygments_lexer": "ipython3",
      "version": "3.10.6"
    },
    "vscode": {
      "interpreter": {
        "hash": "a42ccb73e7d9bfdf27e036f1d2b8b681e55fc0743cc5586bc2474d4a60f4b886"
      }
    }
  },
  "nbformat": 4,
  "nbformat_minor": 0
}
